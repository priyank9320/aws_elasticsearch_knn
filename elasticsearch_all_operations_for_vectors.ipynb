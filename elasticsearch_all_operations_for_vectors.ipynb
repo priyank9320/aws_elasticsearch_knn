{
 "metadata": {
  "language_info": {
   "codemirror_mode": {
    "name": "ipython",
    "version": 3
   },
   "file_extension": ".py",
   "mimetype": "text/x-python",
   "name": "python",
   "nbconvert_exporter": "python",
   "pygments_lexer": "ipython3",
   "version": 3
  },
  "orig_nbformat": 2
 },
 "nbformat": 4,
 "nbformat_minor": 2,
 "cells": [
  {
   "cell_type": "code",
   "execution_count": null,
   "metadata": {},
   "outputs": [],
   "source": [
    "from elasticsearch import Elasticsearch, RequestsHttpConnection\n",
    "from requests_aws4auth import AWS4Auth\n",
    "import boto3\n",
    "from pprint import pprint\n",
    "\n",
    "proxy_endpoint = 'search-company-sim-4k7ovt44tpdnhmpudn73oyf5cu.eu-west-2.es.amazonaws.com/' # For example, foo.execute-api.us-east-1.amazonaws.com/prod\n",
    "endpoint_parts = proxy_endpoint.split('/')\n",
    "host = endpoint_parts[0] # For example, foo.execute-api.us-east-1.amazonaws.com\n",
    "url_prefix = endpoint_parts[1]\n",
    "region= 'eu-west-2' # us-east-1\n",
    "\n",
    "service = 'es' # \n",
    "\n",
    "credentials = boto3.Session().get_credentials()\n",
    "awsauth = AWS4Auth(credentials.access_key, credentials.secret_key, region, service)\n",
    "\n",
    "es = Elasticsearch(\n",
    "    hosts = [{'host': host, 'url_prefix': url_prefix, 'port': 443}],\n",
    "    http_auth = awsauth,\n",
    "    use_ssl = True,\n",
    "    verify_certs = True,\n",
    "    connection_class = RequestsHttpConnection\n",
    ")"
   ]
  },
  {
   "cell_type": "code",
   "execution_count": null,
   "metadata": {},
   "outputs": [],
   "source": [
    "# uploading a row in an index named \"news\"\n",
    "document = {\n",
    "  \"content\": \"Bob has been living in Seattle for more than ten years\"\n",
    "}\n",
    "es.index(index=\"news\", doc_type=\"_doc\", id=\"5\", body=document)\n",
    "print(es.get(index=\"news\", doc_type=\"_doc\", id=\"5\"))"
   ]
  },
  {
   "cell_type": "code",
   "execution_count": null,
   "metadata": {},
   "outputs": [],
   "source": [
    "# INDEX CREATE\n",
    "# CREATES THE INDEX FOR KNN \n",
    "# In elasticsearch an Index is the collection of documents\n",
    "query={\n",
    "  \"settings\": {\n",
    "    \"index.knn\": 'true'\n",
    "  },\n",
    "  \"mappings\": {\n",
    "    \"properties\": {\n",
    "      \"my_vector1\": {\n",
    "        \"type\": \"knn_vector\",\n",
    "        \"dimension\": 2\n",
    "      },\n",
    "      \"my_vector2\": {\n",
    "        \"type\": \"knn_vector\",\n",
    "        \"dimension\": 4\n",
    "      }\n",
    "    }\n",
    "  }\n",
    "}\n",
    "\n",
    "print(es.indices.create(index='my-index', body=query))"
   ]
  },
  {
   "cell_type": "code",
   "execution_count": null,
   "metadata": {},
   "outputs": [],
   "source": [
    "# POST\n",
    "# POSTS RECORDS into the KNN based index that we created\n",
    "query={ \"my_vector1\": [5.5, 6.5], \"price\": 1.2 }\n",
    "es.index(index='my-index', id='4', body=query )"
   ]
  },
  {
   "cell_type": "code",
   "execution_count": null,
   "metadata": {},
   "outputs": [],
   "source": [
    "#GET\n",
    "# retrieves the record\n",
    "query={\n",
    "  \"size\": 2,\n",
    "  \"query\": {\n",
    "    \"knn\": {\n",
    "      \"my_vector1\": {\n",
    "        \"vector\": [1.5, 2.5],\n",
    "        \"k\": 2\n",
    "      }\n",
    "    }\n",
    "  }\n",
    "}\n",
    "\n",
    "res= es.search(index='my-index' ,body=query)\n",
    "pprint(res['hits']['hits'])"
   ]
  },
  {
   "cell_type": "code",
   "execution_count": null,
   "metadata": {},
   "outputs": [],
   "source": [
    "# -------------trying bulk upload of real data ------------------------------\n",
    "\n",
    "# INDEX CREATE\n",
    "# THIS EXAMPLE WORKED : CREATES THE INDEX FOR KNN\n",
    "query={\n",
    "  \"settings\": {\n",
    "    \"index.knn\": 'true'\n",
    "  },\n",
    "  \"mappings\": {\n",
    "    \"properties\": {\n",
    "      \"vectors\": {\n",
    "        \"type\": \"knn_vector\",\n",
    "        \"dimension\": 1000\n",
    "      }\n",
    "    }\n",
    "  }\n",
    "}\n",
    "\n",
    "print(es.indices.create(index='cmp-sim', body=query))"
   ]
  },
  {
   "cell_type": "code",
   "execution_count": null,
   "metadata": {},
   "outputs": [],
   "source": [
    "# loading the data into pandas dataframe locally\n",
    "import pandas as pd\n",
    "final_df=pd.read_json('/home/priyank/Downloads/bulk_vec.json')\n",
    "final_df"
   ]
  },
  {
   "cell_type": "code",
   "execution_count": null,
   "metadata": {},
   "outputs": [],
   "source": [
    "# bulk \n",
    "# THIS WORKED : WE ARE ABLE TO LOAD BULK DATA ALL 5K records by keeping high timeout value and small chunk size\n",
    "from datetime import datetime\n",
    "from elasticsearch import helpers\n",
    "\n",
    "\n",
    "actions = [\n",
    "  {\n",
    "    \"_index\": \"cmp-sim\",\n",
    "    #\"_type\": \"company\",\n",
    "    \"_id\": j,\n",
    "    \"_source\": {\n",
    "        \"reg\": final_df['reg'][j],\n",
    "        \"name\": final_df['name'][j],\n",
    "        \"link\":final_df['link'][j],\n",
    "        \"vectors\":final_df['vectors'][j]}\n",
    "  }\n",
    "  for j in range(final_df.shape[0])\n",
    "]\n",
    "\n",
    "helpers.bulk(es, actions, request_timeout=200, chunk_size=100 )"
   ]
  },
  {
   "cell_type": "code",
   "execution_count": null,
   "metadata": {},
   "outputs": [],
   "source": [
    "# DELETE ALL DATA INSIDE INDEX< WITHOUT DELETING THE INDEX\n",
    "# THIS WORKS\n",
    "es.delete_by_query(index=\"cmp-sim\", body={\"query\": {\"match_all\": {}}}, request_timeout=200)"
   ]
  },
  {
   "cell_type": "code",
   "execution_count": null,
   "metadata": {},
   "outputs": [],
   "source": [
    "# DELETE SPECIFIC DOCUMENTS\n",
    "# THIS WORKS\n",
    "es.delete(index=\"cmp-sim\",id=3)"
   ]
  },
  {
   "cell_type": "code",
   "execution_count": null,
   "metadata": {},
   "outputs": [],
   "source": [
    "# RUNNING KNN ON 5K RECORDS\n",
    "\n",
    "#GET\n",
    "# THIS WORKS\n",
    "query={\n",
    "  \"size\": 2,\n",
    "  \"query\": {\n",
    "    \"knn\": {\n",
    "      \"vectors\": {\n",
    "        \"vector\": final_df['vectors'][4997], # sending a vector in the query to perform KNN with this vector\n",
    "        \"k\": 2\n",
    "      }\n",
    "    }\n",
    "  }\n",
    "}\n",
    "\n",
    "\n",
    "res= es.search(index='cmp-sim' ,body=query)\n",
    "pprint(res['hits']['hits'])"
   ]
  },
  {
   "cell_type": "code",
   "execution_count": null,
   "metadata": {},
   "outputs": [],
   "source": [
    "# prints the name of the companies in the results returned\n",
    "for r in res['hits']['hits']:\n",
    "    pprint(r['_source']['name'])"
   ]
  },
  {
   "cell_type": "code",
   "execution_count": null,
   "metadata": {},
   "outputs": [],
   "source": [
    "# prints the name of the companies in the results returned\n",
    "output=[]\n",
    "for r in res['hits']['hits']:\n",
    "    output_elmnt={}\n",
    "    output_elmnt['name']=r['_source']['name']\n",
    "    output_elmnt['link']=r['_source']['link']\n",
    "    output_elmnt['reg']=r['_source']['reg']\n",
    "    output_elmnt['match_score']=r['_score']\n",
    "    output.append(output_elmnt)\n",
    "\n",
    "output\n",
    "\n",
    "# below is an example output\n",
    "''' [{'name': 'BEACH ENERGY (OTWAY) LIMITED',\n",
    "  'link': 'toyota-tsusho-uk.com',\n",
    "  'reg': '04370495',\n",
    "  'match_score': 1.0},\n",
    " {'name': 'GET SMARTER ENERGY LIMITED',\n",
    "  'link': 'getsmarterenergy.com',\n",
    "  'reg': '08011426',\n",
    "  'match_score': 0.17426303}] '''"
   ]
  },
  {
   "cell_type": "code",
   "execution_count": null,
   "metadata": {},
   "outputs": [],
   "source": [
    "# ENTER THE REG NUMBER OF THE COMPANY AND IT FINDS THE VECTOR FOR THAT COMPANY\n",
    "doc = {\n",
    "    'size' : 10000,\n",
    "    'query': {\n",
    "        'match' : {\n",
    "            'reg': '04370495'\n",
    "        }\n",
    "    }\n",
    "}\n",
    "\n",
    "res=es.search(index='cmp-sim', body=doc)\n",
    "res['hits']['hits'][0]['_source']['vectors']"
   ]
  },
  {
   "cell_type": "code",
   "execution_count": null,
   "metadata": {},
   "outputs": [],
   "source": [
    "# example of a data table\n",
    "\n",
    "# \treg\tname\tlink\tvectors\n",
    "# 0\tSC217371\tROLES PRECISION CONTRACTORS LIMITED\trolesprecision.net\t[0.2673638463, 0.4009197652, -0.3300765753, -0...\n",
    "# 1\tSC224987\tONE INTEGRATED SOLUTION LIMITED\tonesolutiongroup.com\t[0.295811981, 0.1737075597, -0.318918258, -0.2...\n",
    "# 2\tOC308164\tTHE LIVEMORE PARTNERSHIP LLP\tlivemore.co.uk\t[0.056170642400000005, -0.054804641800000005, ...\n",
    "# 3\tNI051458\tGLOBE PROPERTY DEVELOPMENTS LIMITED\tglobe-environmental.co.uk\t[0.0292541608, -0.0890476704, -0.1428266913, -...\n",
    "# 4\tSC221598\tGOOD MORNING PROJECT LIMITED\tgoodmorningservice.co.uk\t[-0.0592145696, 0.1681548059, 0.0393520556, 0....\n",
    "# ...\t...\t...\t...\t...\n",
    "# 4995\t11057887\tTHE HATTON MODEL RAILWAY COMPANY LIMITED\thattons.co.uk\t[-0.1833461821, 0.0740591288, 0.071855627, 0.1...\n",
    "# 4996\t04292780\tUNISON COLOUR LIMITED\tunisoncolour.com\t[0.23802788560000002, -0.085138686, 0.03595999...\n",
    "# 4997\t04370495\tBEACH ENERGY (OTWAY) LIMITED\ttoyota-tsusho-uk.com\t[-0.0250058435, -0.17591276760000002, -0.19892...\n",
    "# 4998\t11630856\tM & O PROPERTIES LIMITED\tmobuilders.co.uk\t[-0.0794660076, 0.0644695535, -0.1396723688, -...\n",
    "# 4999\t10886195\tHAYDOCK INVESTMENTS LTD\tbwservices.uk.com\t[-0.0967349187, -0.1150934696, -0.1456367821, ...\n",
    "# 5000 rows × 4 columns"
   ]
  }
 ]
}